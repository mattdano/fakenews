{
 "cells": [
  {
   "cell_type": "code",
   "execution_count": 3,
   "metadata": {},
   "outputs": [],
   "source": [
    "import requests\n",
    "import json"
   ]
  },
  {
   "cell_type": "code",
   "execution_count": null,
   "metadata": {},
   "outputs": [],
   "source": [
    "requests()\n",
    "\n",
    "r = requests.get('https://discriminate.grover.allenai.org/api/disc',)\n"
   ]
  },
  {
   "cell_type": "code",
   "execution_count": 5,
   "metadata": {},
   "outputs": [],
   "source": [
    "\n",
    "article_text = \"On Friday the legislature of Taiwan, the Legislative Yuan, voted 66 to 27 to legalize same-sex marriage, seven days ahead of the two-year deadline issued by the country's Constitutional Court in 2017. This would make Taiwan the first country in Asia to legally recognize unions between same-sex couples. The law is to take effect late this week.\\nThe Legislative Yuan debated three competing bills, and selected the one posed by the country's cabinet, which used the word \\\"marriage,\\\" over the two posed by conservatives, which used the terms \\\"same-sex family relationship\\\" and \\\"same-sex union.\\\" The selected bill does not offer same-sex couples all the same rights as their heterosexual counterparts; there are limits on adoption rights and marriage with foreigners.\\nJennifer Lu of Marriage Equality Coalition Taiwan said, \\\"[I]t's still not full marriage rights; we still need to fight for co-adoption rights, and we are not sure about foreigner and Taiwanese marriage, and also gender equality education.\\\"\\nThe Taiwanese government held a referendum in November 2018, allowing the population to vote on same-sex marriage, and 67% came out against.\\nXiaogang Wei of the Beijing Gender Health Education Institute commented on the Legislative Yuan's decision: \\\"The Chinese government has pointed to cultural tradition as a reason for same-sex marriage being unsuitable in China. But the decision in Taiwan, which shares a cultural tradition with us, proves that Chinese culture can be open, diverse and progressive.\\\"\\nIn mainland China, which claims sovereignty over Taiwan, homosexuality is technically not illegal, but late last year a same-sex erotica author was sentenced to ten years in prison, and same-sex marriage is not recognized.\\nIn 2017, Taiwan's Constitutional Court, which rules on constitutional matters, said not allowing gay citizens to marry constituted \\\"different treatment\\\" incompatible with the constitution. The decision prompted objections from conservatives opposing recognition of gay marriage.\"\n",
    "domain=\"\"\n",
    "date=\"\"\n",
    "authors=\"\"\n",
    "title=\"\"\n",
    "target=\"discrimination\"\n"
   ]
  },
  {
   "cell_type": "code",
   "execution_count": null,
   "metadata": {},
   "outputs": [],
   "source": [
    "{\"article\":\"On Friday the legislature of Taiwan, the Legislative Yuan, voted 66 to 27 to legalize same-sex marriage, seven days ahead of the two-year deadline issued by the country's Constitutional Court in 2017. This would make Taiwan the first country in Asia to legally recognize unions between same-sex couples. The law is to take effect late this week.\\nThe Legislative Yuan debated three competing bills, and selected the one posed by the country's cabinet, which used the word \\\"marriage,\\\" over the two posed by conservatives, which used the terms \\\"same-sex family relationship\\\" and \\\"same-sex union.\\\" The selected bill does not offer same-sex couples all the same rights as their heterosexual counterparts; there are limits on adoption rights and marriage with foreigners.\\nJennifer Lu of Marriage Equality Coalition Taiwan said, \\\"[I]t's still not full marriage rights; we still need to fight for co-adoption rights, and we are not sure about foreigner and Taiwanese marriage, and also gender equality education.\\\"\\nThe Taiwanese government held a referendum in November 2018, allowing the population to vote on same-sex marriage, and 67% came out against.\\nXiaogang Wei of the Beijing Gender Health Education Institute commented on the Legislative Yuan's decision: \\\"The Chinese government has pointed to cultural tradition as a reason for same-sex marriage being unsuitable in China. But the decision in Taiwan, which shares a cultural tradition with us, proves that Chinese culture can be open, diverse and progressive.\\\"\\nIn mainland China, which claims sovereignty over Taiwan, homosexuality is technically not illegal, but late last year a same-sex erotica author was sentenced to ten years in prison, and same-sex marriage is not recognized.\\nIn 2017, Taiwan's Constitutional Court, which rules on constitutional matters, said not allowing gay citizens to marry constituted \\\"different treatment\\\" incompatible with the constitution. The decision prompted objections from conservatives opposing recognition of gay marriage.\",\"domain\":\"\",\"date\":\"\",\"authors\":\"\",\"title\":\"\",\"target\":\"discrimination\"}"
   ]
  },
  {
   "cell_type": "code",
   "execution_count": 12,
   "metadata": {},
   "outputs": [
    {
     "data": {
      "text/plain": [
       "'{\"article\": \"On Friday the legislature of Taiwan, the Legislative Yuan, voted 66 to 27 to legalize same-sex marriage, seven days ahead of the two-year deadline issued by the country\\'s Constitutional Court in 2017. This would make Taiwan the first country in Asia to legally recognize unions between same-sex couples. The law is to take effect late this week.\\\\nThe Legislative Yuan debated three competing bills, and selected the one posed by the country\\'s cabinet, which used the word \\\\\"marriage,\\\\\" over the two posed by conservatives, which used the terms \\\\\"same-sex family relationship\\\\\" and \\\\\"same-sex union.\\\\\" The selected bill does not offer same-sex couples all the same rights as their heterosexual counterparts; there are limits on adoption rights and marriage with foreigners.\\\\nJennifer Lu of Marriage Equality Coalition Taiwan said, \\\\\"[I]t\\'s still not full marriage rights; we still need to fight for co-adoption rights, and we are not sure about foreigner and Taiwanese marriage, and also gender equality education.\\\\\"\\\\nThe Taiwanese government held a referendum in November 2018, allowing the population to vote on same-sex marriage, and 67% came out against.\\\\nXiaogang Wei of the Beijing Gender Health Education Institute commented on the Legislative Yuan\\'s decision: \\\\\"The Chinese government has pointed to cultural tradition as a reason for same-sex marriage being unsuitable in China. But the decision in Taiwan, which shares a cultural tradition with us, proves that Chinese culture can be open, diverse and progressive.\\\\\"\\\\nIn mainland China, which claims sovereignty over Taiwan, homosexuality is technically not illegal, but late last year a same-sex erotica author was sentenced to ten years in prison, and same-sex marriage is not recognized.\\\\nIn 2017, Taiwan\\'s Constitutional Court, which rules on constitutional matters, said not allowing gay citizens to marry constituted \\\\\"different treatment\\\\\" incompatible with the constitution. The decision prompted objections from conservatives opposing recognition of gay marriage.\", \"domain\": \"\", \"date\": \"\", \"authors\": \"\", \"title\": \"\", \"target\": \"discrimination\"}'"
      ]
     },
     "execution_count": 12,
     "metadata": {},
     "output_type": "execute_result"
    }
   ],
   "source": [
    "json.dumps(payload)"
   ]
  },
  {
   "cell_type": "code",
   "execution_count": 19,
   "metadata": {},
   "outputs": [],
   "source": [
    "payload = dict(article=article_text, domain=\"\",date=\"\",authors=\"\",title=\"\",target=\"discrimination\")\n",
    "r = requests.post('https://discriminate.grover.allenai.org/api/disc', json=json.dumps(payload),headers={'authority':'discriminate.grover.allenai.org','referer': 'https://grover.allenai.org/detect','path':'/api/disc','user-agent': 'Mozilla/5.0 (Macintosh; Intel Mac OS X 10_15_1) AppleWebKit/537.36 (KHTML, like Gecko) Chrome/78.0.3904.108 Safari/537.36',\n",
    "'sec-fetch-site': 'same-site'\n",
    "})"
   ]
  },
  {
   "cell_type": "code",
   "execution_count": 20,
   "metadata": {},
   "outputs": [
    {
     "data": {
      "text/plain": [
       "'<!DOCTYPE HTML PUBLIC \"-//W3C//DTD HTML 3.2 Final//EN\">\\n<title>500 Internal Server Error</title>\\n<h1>Internal Server Error</h1>\\n<p>The server encountered an internal error and was unable to complete your request. Either the server is overloaded or there is an error in the application.</p>\\n'"
      ]
     },
     "execution_count": 20,
     "metadata": {},
     "output_type": "execute_result"
    }
   ],
   "source": [
    "r.text"
   ]
  },
  {
   "cell_type": "code",
   "execution_count": 9,
   "metadata": {},
   "outputs": [
    {
     "data": {
      "text/plain": [
       "<Response [500]>"
      ]
     },
     "execution_count": 9,
     "metadata": {},
     "output_type": "execute_result"
    }
   ],
   "source": [
    "r"
   ]
  },
  {
   "cell_type": "code",
   "execution_count": null,
   "metadata": {},
   "outputs": [],
   "source": [
    "Request\n",
    ":method: POST\n",
    ":scheme: https\n",
    ":authority: discriminate.grover.allenai.org\n",
    ":path: /api/disc\n",
    "Accept: application/json, text/plain, */*\n",
    "Content-Type: application/json;charset=utf-8\n",
    "Origin: https://grover.allenai.org\n",
    "Content-Length: 795\n",
    "Accept-Language: en-gb\n",
    "Host: discriminate.grover.allenai.org\n",
    "User-Agent: Mozilla/5.0 (Macintosh; Intel Mac OS X 10_15_1) AppleWebKit/605.1.15 (KHTML, like Gecko) Version/13.0.3 Safari/605.1.15\n",
    "Referer: https://grover.allenai.org/detect\n",
    "Accept-Encoding: gzip, deflate, br\n",
    "Connection: keep-alive"
   ]
  },
  {
   "cell_type": "code",
   "execution_count": null,
   "metadata": {},
   "outputs": [],
   "source": [
    ":authority: discriminate.grover.allenai.org\n",
    ":method: POST\n",
    ":path: /api/disc\n",
    ":scheme: https\n",
    "accept: application/json, text/plain, */*\n",
    "accept-encoding: gzip, deflate, br\n",
    "accept-language: en-GB,en-US;q=0.9,en;q=0.8\n",
    "content-length: 2117\n",
    "content-type: application/json;charset=UTF-8\n",
    "origin: https://grover.allenai.org\n",
    "referer: https://grover.allenai.org/detect\n",
    "sec-fetch-mode: cors\n",
    "sec-fetch-site: same-site\n",
    "user-agent: Mozilla/5.0 (Macintosh; Intel Mac OS X 10_15_1) AppleWebKit/537.36 (KHTML, like Gecko) Chrome/78.0.3904.108 Safari/537.36"
   ]
  }
 ],
 "metadata": {
  "kernelspec": {
   "display_name": "Python 3",
   "language": "python",
   "name": "python3"
  },
  "language_info": {
   "codemirror_mode": {
    "name": "ipython",
    "version": 3
   },
   "file_extension": ".py",
   "mimetype": "text/x-python",
   "name": "python",
   "nbconvert_exporter": "python",
   "pygments_lexer": "ipython3",
   "version": "3.7.3"
  }
 },
 "nbformat": 4,
 "nbformat_minor": 2
}
